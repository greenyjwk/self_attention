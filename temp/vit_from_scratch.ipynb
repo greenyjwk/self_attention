{
 "cells": [
  {
   "cell_type": "markdown",
   "metadata": {},
   "source": [
    "# ViT: Vision Transformers\n",
    "\n",
    "- Anuja Bhajibhakre\n",
    "- Shivani Junawane\n",
    "\n",
    "**Let us work on a smaller dataset as it need fewer hardware resources and can be trained on a GPU.**"
   ]
  },
  {
   "cell_type": "code",
   "execution_count": 1,
   "metadata": {},
   "outputs": [],
   "source": [
    "from torchvision.datasets import MNIST\n",
    "from torchvision.transforms import ToTensor\n",
    "\n",
    "# download the train and test dataset from torchvison\n",
    "# here we will be working on the CIFAR10 dataset\n",
    "train_dataset = MNIST(root=\"./dataset/\", train=True, download=True, transform=ToTensor())\n",
    "test_dataset = MNIST(root=\"./dataset/\", train=False, download=True, transform=ToTensor())"
   ]
  },
  {
   "cell_type": "markdown",
   "metadata": {},
   "source": [
    "**Now, that we have our dataset in place, let us define our ViT model**"
   ]
  },
  {
   "cell_type": "code",
   "execution_count": 2,
   "metadata": {},
   "outputs": [],
   "source": [
    "import torch\n",
    "import torch.nn as nn"
   ]
  },
  {
   "cell_type": "code",
   "execution_count": 3,
   "metadata": {},
   "outputs": [],
   "source": [
    "class MultiHeadSelfAttention(nn.Module):\n",
    "    def __init__(self, hidden_dim, num_heads):\n",
    "        super().__init__()\n",
    "        \n",
    "        self.hidden_dim = hidden_dim\n",
    "        self.num_heads = num_heads\n",
    "        \n",
    "        self.q_weights = [nn.Linear(hidden_dim, hidden_dim) for _ in range(self.num_heads)]\n",
    "        self.k_weights = [nn.Linear(hidden_dim, hidden_dim) for _ in range(self.num_heads)]\n",
    "        self.v_weights = [nn.Linear(hidden_dim, hidden_dim) for _ in range(self.num_heads)]\n",
    "        self.softmax = nn.Softmax(dim=-1)\n",
    "        self.linear = nn.Linear(num_heads*hidden_dim, hidden_dim)\n",
    "        \n",
    "    def forward(self, X):\n",
    "        #B, N, D = X.shape \n",
    "        result = []\n",
    "        for x in X:\n",
    "            x_result = [] # H, N, D\n",
    "            for head in range(self.num_heads):\n",
    "                q = self.q_weights[head](x)\n",
    "                k = self.k_weights[head](x)\n",
    "                v = self.v_weights[head](x)\n",
    "                h = self.softmax(q @ k.T / self.hidden_dim**2) @ v # N, D\n",
    "                x_result.append(h)\n",
    "            result.append(torch.hstack(x_result)) # B, H, N, D\n",
    "        H = torch.cat([torch.unsqueeze(r, dim=0) for r in result]) \n",
    "        out = self.linear(H)\n",
    "        return out # N, D\n",
    "    "
   ]
  },
  {
   "cell_type": "code",
   "execution_count": 4,
   "metadata": {},
   "outputs": [],
   "source": [
    "class VisionTransformer(nn.Module):\n",
    "    def __init__(self, img_shape, patch_size, hidden_dim, num_heads, out_dim, num_encoder_blocks=6):\n",
    "        super().__init__()\n",
    "        \n",
    "        self.img_shape = img_shape\n",
    "        self.patch_size = img_shape[0]*patch_size[0]*patch_size[1]\n",
    "        self.num_patches = int(img_shape[0]*img_shape[1]/patch_size[0]) ** 2\n",
    "        self.hidden_dim = hidden_dim\n",
    "        self.num_heads = num_heads\n",
    "        self.out_dim = out_dim\n",
    "        self.num_encoder_blocks = num_encoder_blocks\n",
    "        \n",
    "        # Linear patching\n",
    "        self.linear_patching = nn.Linear(self.patch_size, self.hidden_dim)\n",
    "        \n",
    "        # CLS embedding\n",
    "        self.cls_embedding = nn.Parameter(torch.rand(1, self.hidden_dim))\n",
    "        \n",
    "        # Positional embedding\n",
    "        self.pos_embedding = nn.Parameter(torch.rand(1+self.num_patches, self.hidden_dim))\n",
    "        \n",
    "        # Transformer\n",
    "        self.transformer_1 = nn.Sequential(\n",
    "                                nn.LayerNorm((1+self.num_patches, self.hidden_dim)),\n",
    "                                MultiHeadSelfAttention(self.hidden_dim, self.num_heads)\n",
    "                            )\n",
    "        self.transformer_2 = nn.Sequential(\n",
    "                                nn.LayerNorm((1+self.num_patches, self.hidden_dim)),\n",
    "                                nn.Linear(self.hidden_dim, self.hidden_dim),\n",
    "                            )\n",
    "        \n",
    "        # MLP head\n",
    "        self.mlp_head = nn.Sequential(\n",
    "                            nn.Linear(self.hidden_dim, self.out_dim),\n",
    "                            nn.Tanh(),\n",
    "                        )\n",
    "    \n",
    "    def forward(self, X):\n",
    "        N, C, H, W = X.shape\n",
    "        patches = X.reshape(N, self.num_patches, self.patch_size)\n",
    "        E = self.linear_patching(patches)\n",
    "        cls_embedding = nn.Parameter(self.cls_embedding.repeat(N, 1, 1))\n",
    "        E = torch.cat([cls_embedding, E], dim=1)\n",
    "        Epos = nn.Parameter(self.pos_embedding.repeat(N, 1, 1))\n",
    "        Z = E + Epos\n",
    "        for _ in range(self.num_encoder_blocks):\n",
    "            res1 = self.transformer_1(Z)\n",
    "            Z = self.transformer_2(res1 + Z)\n",
    "        C = self.mlp_head(Z[:, 0])\n",
    "        return C\n",
    "                "
   ]
  },
  {
   "cell_type": "code",
   "execution_count": 7,
   "metadata": {},
   "outputs": [],
   "source": [
    "BATCH_SIZE = 64\n",
    "EPOCHS = 10\n",
    "LEARNING_RATE = 0.01\n",
    "\n",
    "img_shape = [1,28,28]\n",
    "patch_size = [4,4]\n",
    "hidden_dim = 8\n",
    "num_heads = 3\n",
    "out_dim = 10"
   ]
  },
  {
   "cell_type": "code",
   "execution_count": 8,
   "metadata": {},
   "outputs": [],
   "source": [
    "from torch.optim import Adam, SGD\n",
    "from torch.nn import CrossEntropyLoss, MSELoss\n",
    "from torch.utils.data import DataLoader\n",
    "import numpy as np\n",
    "\n",
    "np.random.seed(24)\n",
    "torch.manual_seed(24)\n",
    "\n",
    "train_loader = DataLoader(train_dataset, shuffle=True, batch_size=BATCH_SIZE)\n",
    "test_loader = DataLoader(test_dataset, shuffle=False, batch_size=BATCH_SIZE)\n",
    "\n",
    "model = VisionTransformer(img_shape, patch_size, hidden_dim, num_heads, out_dim)\n",
    "optimizer = Adam(model.parameters(), lr=LEARNING_RATE)\n",
    "criterion = CrossEntropyLoss()\n",
    "\n",
    "for epoch in range(EPOCHS):\n",
    "    train_losses = []\n",
    "    correct = 0\n",
    "    total = 0\n",
    "    for batch_id, batch_sample in enumerate(train_loader):\n",
    "        data, target = batch_sample \n",
    "        \n",
    "        optimizer.zero_grad()               # avoid gradient accumulation\n",
    "        output = model(data)                # forward pass\n",
    "        loss = criterion(output, target)    # compute loss\n",
    "        loss.backward()                     # backward pass - compute gradients\n",
    "        train_losses.append(loss.item())    # storing loss\n",
    "        optimizer.step()                    # backward pass - update parameters\n",
    "        \n",
    "        _, predicted = torch.max(output, 1)\n",
    "        correct += (predicted == target).sum().item()\n",
    "        total += len(target)\n",
    "    train_loss = float(np.mean(train_losses))\n",
    "    train_acc = 100 * correct / total\n",
    "    print('\\nTrain set: Epoch: {}, Average loss: {:.4f}, Accuracy: {}/{} ({:.2f}%)'.format(\n",
    "        epoch+1, train_loss, correct, total, train_acc))"
   ]
  },
  {
   "cell_type": "code",
   "execution_count": 7,
   "metadata": {},
   "outputs": [],
   "source": [
    "# Saving trained model to avoid re-training again\n",
    "torch.save(model.state_dict(), \"vit_mnist\")"
   ]
  },
  {
   "cell_type": "code",
   "execution_count": 8,
   "metadata": {},
   "outputs": [
    {
     "name": "stdout",
     "output_type": "stream",
     "text": [
      "\n",
      "Test set: Average loss: 0.9649, Accuracy: 9198/10000 (90.85%)\n"
     ]
    }
   ],
   "source": [
    "# Test Loop\n",
    "with torch.no_grad():\n",
    "    test_losses = []\n",
    "    correct = 0\n",
    "    for batch_id, batch_sample in enumerate(test_loader):\n",
    "        data, target = batch_sample \n",
    "\n",
    "        optimizer.zero_grad()               # avoid gradient accumulation\n",
    "        output = model(data)                # forward pass        \n",
    "        loss = criterion(output, target)    # compute loss\n",
    "        test_losses.append(loss.item())     # storing loss\n",
    "        \n",
    "        _, predicted = torch.max(output, 1)\n",
    "        correct += (predicted == target).sum().item()\n",
    "\n",
    "    test_loss = float(np.mean(test_losses))\n",
    "    test_acc = 100 * correct / len(test_loader.dataset)\n",
    "    print('\\nTest set: Average loss: {:.4f}, Accuracy: {}/{} ({:.2f}%)'.format(\n",
    "        train_loss, correct, len(test_loader.dataset), train_acc))"
   ]
  },
  {
   "cell_type": "code",
   "execution_count": null,
   "metadata": {},
   "outputs": [],
   "source": []
  },
  {
   "cell_type": "code",
   "execution_count": null,
   "metadata": {},
   "outputs": [],
   "source": []
  }
 ],
 "metadata": {
  "kernelspec": {
   "display_name": "Python 3",
   "language": "python",
   "name": "python3"
  },
  "language_info": {
   "codemirror_mode": {
    "name": "ipython",
    "version": 3
   },
   "file_extension": ".py",
   "mimetype": "text/x-python",
   "name": "python",
   "nbconvert_exporter": "python",
   "pygments_lexer": "ipython3",
   "version": "3.8.10"
  }
 },
 "nbformat": 4,
 "nbformat_minor": 4
}
